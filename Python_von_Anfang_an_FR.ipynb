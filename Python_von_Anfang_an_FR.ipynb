{
 "cells": [
  {
   "cell_type": "markdown",
   "id": "e7c05150",
   "metadata": {
    "direction": "ltr",
    "toc": true
   },
   "source": [
    "<h1>Inhaltsverzeichnis<span class=\"tocSkip\"></span></h1>\n",
    "<div class=\"toc\"><ul class=\"toc-item\"><li><span><a href=\"#Python-von-Anfang-an\" data-toc-modified-id=\"Python-von-Anfang-an-1\"><span class=\"toc-item-num\">1&nbsp;&nbsp;</span>Python von Anfang an</a></span></li><li><span><a href=\"#Eingabe-und-Ausgabe\" data-toc-modified-id=\"Eingabe-und-Ausgabe-2\"><span class=\"toc-item-num\">2&nbsp;&nbsp;</span>Eingabe und Ausgabe</a></span><ul class=\"toc-item\"><li><span><a href=\"#Ausgabe-eines-Strings-(Wort)\" data-toc-modified-id=\"Ausgabe-eines-Strings-(Wort)-2.1\"><span class=\"toc-item-num\">2.1&nbsp;&nbsp;</span>Ausgabe eines Strings (Wort)</a></span></li><li><span><a href=\"#Ausgabe-einer-Zahl\" data-toc-modified-id=\"Ausgabe-einer-Zahl-2.2\"><span class=\"toc-item-num\">2.2&nbsp;&nbsp;</span>Ausgabe einer Zahl</a></span><ul class=\"toc-item\"><li><span><a href=\"#Ausgabe-einer-Variablen\" data-toc-modified-id=\"Ausgabe-einer-Variablen-2.2.1\"><span class=\"toc-item-num\">2.2.1&nbsp;&nbsp;</span>Ausgabe einer Variablen</a></span></li><li><span><a href=\"#Ausgabe-von-Text,-Zahlen-und-Variablen-zusammen\" data-toc-modified-id=\"Ausgabe-von-Text,-Zahlen-und-Variablen-zusammen-2.2.2\"><span class=\"toc-item-num\">2.2.2&nbsp;&nbsp;</span>Ausgabe von Text, Zahlen und Variablen zusammen</a></span></li><li><span><a href=\"#Eingabe-eines-Strings\" data-toc-modified-id=\"Eingabe-eines-Strings-2.2.3\"><span class=\"toc-item-num\">2.2.3&nbsp;&nbsp;</span>Eingabe eines Strings</a></span></li><li><span><a href=\"#Eingabe-einer-Zahl\" data-toc-modified-id=\"Eingabe-einer-Zahl-2.2.4\"><span class=\"toc-item-num\">2.2.4&nbsp;&nbsp;</span>Eingabe einer Zahl</a></span></li><li><span><a href=\"#String,-Integer-und-Float\" data-toc-modified-id=\"String,-Integer-und-Float-2.2.5\"><span class=\"toc-item-num\">2.2.5&nbsp;&nbsp;</span>String, Integer und Float</a></span></li><li><span><a href=\"#Rechnen-mit-Zahlen---Operatoren\" data-toc-modified-id=\"Rechnen-mit-Zahlen---Operatoren-2.2.6\"><span class=\"toc-item-num\">2.2.6&nbsp;&nbsp;</span>Rechnen mit Zahlen - Operatoren</a></span></li><li><span><a href=\"#Aufgaben-zu-Eingabe-und-Ausgabe-von-Strings\" data-toc-modified-id=\"Aufgaben-zu-Eingabe-und-Ausgabe-von-Strings-2.2.7\"><span class=\"toc-item-num\">2.2.7&nbsp;&nbsp;</span>Aufgaben zu Eingabe und Ausgabe von Strings</a></span></li></ul></li></ul></li><li><span><a href=\"#Kontrollstrukturen\" data-toc-modified-id=\"Kontrollstrukturen-3\"><span class=\"toc-item-num\">3&nbsp;&nbsp;</span>Kontrollstrukturen</a></span><ul class=\"toc-item\"><li><span><a href=\"#if-elif-else\" data-toc-modified-id=\"if-elif-else-3.1\"><span class=\"toc-item-num\">3.1&nbsp;&nbsp;</span>if elif else</a></span><ul class=\"toc-item\"><li><span><a href=\"#Böse-Fallen-bei-der-Verzweigung-und-wie-man-nicht-reintappt-(doch---Anfänger-tappen-immer-in-diese-Fallen)\" data-toc-modified-id=\"Böse-Fallen-bei-der-Verzweigung-und-wie-man-nicht-reintappt-(doch---Anfänger-tappen-immer-in-diese-Fallen)-3.1.1\"><span class=\"toc-item-num\">3.1.1&nbsp;&nbsp;</span>Böse Fallen bei der Verzweigung und wie man nicht reintappt (doch - Anfänger tappen immer in diese Fallen)</a></span><ul class=\"toc-item\"><li><span><a href=\"#Übungen-zu-Verzweigungen\" data-toc-modified-id=\"Übungen-zu-Verzweigungen-3.1.1.1\"><span class=\"toc-item-num\">3.1.1.1&nbsp;&nbsp;</span>Übungen zu Verzweigungen</a></span></li></ul></li></ul></li><li><span><a href=\"#Schleifen\" data-toc-modified-id=\"Schleifen-3.2\"><span class=\"toc-item-num\">3.2&nbsp;&nbsp;</span>Schleifen</a></span><ul class=\"toc-item\"><li><span><a href=\"#while-Schleife-:--Solange-eine-Ausdruck-wahr-ist\" data-toc-modified-id=\"while-Schleife-:--Solange-eine-Ausdruck-wahr-ist-3.2.1\"><span class=\"toc-item-num\">3.2.1&nbsp;&nbsp;</span>while-Schleife :  Solange eine Ausdruck wahr ist</a></span></li><li><span><a href=\"#Zuweisungsoperatoren\" data-toc-modified-id=\"Zuweisungsoperatoren-3.2.2\"><span class=\"toc-item-num\">3.2.2&nbsp;&nbsp;</span>Zuweisungsoperatoren</a></span></li><li><span><a href=\"#for---Schleife:-Eine-genaue-Anzahl-von-Durchläufen\" data-toc-modified-id=\"for---Schleife:-Eine-genaue-Anzahl-von-Durchläufen-3.2.3\"><span class=\"toc-item-num\">3.2.3&nbsp;&nbsp;</span>for - Schleife: Eine genaue Anzahl von Durchläufen</a></span><ul class=\"toc-item\"><li><span><a href=\"#for-Schleife-mit-Schrittlänge-und-Anfang\" data-toc-modified-id=\"for-Schleife-mit-Schrittlänge-und-Anfang-3.2.3.1\"><span class=\"toc-item-num\">3.2.3.1&nbsp;&nbsp;</span>for-Schleife mit Schrittlänge und Anfang</a></span></li></ul></li><li><span><a href=\"#Übungen-zu-Schleifen\" data-toc-modified-id=\"Übungen-zu-Schleifen-3.2.4\"><span class=\"toc-item-num\">3.2.4&nbsp;&nbsp;</span>Übungen zu Schleifen</a></span></li></ul></li></ul></li><li><span><a href=\"#Listen\" data-toc-modified-id=\"Listen-4\"><span class=\"toc-item-num\">4&nbsp;&nbsp;</span>Listen</a></span><ul class=\"toc-item\"><li><span><a href=\"#Eine-Liste-erstellen\" data-toc-modified-id=\"Eine-Liste-erstellen-4.1\"><span class=\"toc-item-num\">4.1&nbsp;&nbsp;</span>Eine Liste erstellen</a></span></li><li><span><a href=\"#Übungen-zum-Erstellen-und-Durchlaufen-einer-List\" data-toc-modified-id=\"Übungen-zum-Erstellen-und-Durchlaufen-einer-List-4.2\"><span class=\"toc-item-num\">4.2&nbsp;&nbsp;</span>Übungen zum Erstellen und Durchlaufen einer List</a></span><ul class=\"toc-item\"><li><span><a href=\"#Welche-Parameter-hat-ein-Befehl-und-was-kann-man-alles-mit-Strings-machen?\" data-toc-modified-id=\"Welche-Parameter-hat-ein-Befehl-und-was-kann-man-alles-mit-Strings-machen?-4.2.1\"><span class=\"toc-item-num\">4.2.1&nbsp;&nbsp;</span>Welche Parameter hat ein Befehl und was kann man alles mit Strings machen?</a></span></li><li><span><a href=\"#Übung-zu-help(list)\" data-toc-modified-id=\"Übung-zu-help(list)-4.2.2\"><span class=\"toc-item-num\">4.2.2&nbsp;&nbsp;</span>Übung zu help(list)</a></span></li></ul></li><li><span><a href=\"#Erstellen-einer-Liste-mit-pythonischem-Zauber\" data-toc-modified-id=\"Erstellen-einer-Liste-mit-pythonischem-Zauber-4.3\"><span class=\"toc-item-num\">4.3&nbsp;&nbsp;</span>Erstellen einer Liste mit pythonischem Zauber</a></span><ul class=\"toc-item\"><li><span><a href=\"#Übungen-zur-list-comprehension\" data-toc-modified-id=\"Übungen-zur-list-comprehension-4.3.1\"><span class=\"toc-item-num\">4.3.1&nbsp;&nbsp;</span>Übungen zur list comprehension</a></span></li></ul></li><li><span><a href=\"#Indexzugriff-auf-eine-Liste/einen-String-und-der-Sushi-Operator\" data-toc-modified-id=\"Indexzugriff-auf-eine-Liste/einen-String-und-der-Sushi-Operator-4.4\"><span class=\"toc-item-num\">4.4&nbsp;&nbsp;</span>Indexzugriff auf eine Liste/einen String und der Sushi-Operator</a></span><ul class=\"toc-item\"><li><ul class=\"toc-item\"><li><span><a href=\"#Übungen-zum-Indexzugriff\" data-toc-modified-id=\"Übungen-zum-Indexzugriff-4.4.0.1\"><span class=\"toc-item-num\">4.4.0.1&nbsp;&nbsp;</span>Übungen zum Indexzugriff</a></span></li></ul></li></ul></li></ul></li><li><span><a href=\"#Funktionen\" data-toc-modified-id=\"Funktionen-5\"><span class=\"toc-item-num\">5&nbsp;&nbsp;</span>Funktionen</a></span><ul class=\"toc-item\"><li><span><a href=\"#Eine-Funktion-definieren\" data-toc-modified-id=\"Eine-Funktion-definieren-5.1\"><span class=\"toc-item-num\">5.1&nbsp;&nbsp;</span>Eine Funktion definieren</a></span></li><li><span><a href=\"#Übungen-zum-Definieren-von-Funktionen\" data-toc-modified-id=\"Übungen-zum-Definieren-von-Funktionen-5.2\"><span class=\"toc-item-num\">5.2&nbsp;&nbsp;</span>Übungen zum Definieren von Funktionen</a></span></li><li><span><a href=\"#Gedanken-zur-Quersumme\" data-toc-modified-id=\"Gedanken-zur-Quersumme-5.3\"><span class=\"toc-item-num\">5.3&nbsp;&nbsp;</span>Gedanken zur Quersumme</a></span></li></ul></li><li><span><a href=\"#Kleine-Projekte\" data-toc-modified-id=\"Kleine-Projekte-6\"><span class=\"toc-item-num\">6&nbsp;&nbsp;</span>Kleine Projekte</a></span><ul class=\"toc-item\"><li><span><a href=\"#Pallindorome-aus-dem-Internet\" data-toc-modified-id=\"Pallindorome-aus-dem-Internet-6.1\"><span class=\"toc-item-num\">6.1&nbsp;&nbsp;</span>Pallindorome aus dem Internet</a></span></li><li><span><a href=\"#Dein-Name-als-ascii-Art\" data-toc-modified-id=\"Dein-Name-als-ascii-Art-6.2\"><span class=\"toc-item-num\">6.2&nbsp;&nbsp;</span>Dein Name als ascii-Art</a></span></li></ul></li><li><span><a href=\"#Wie-geht-es-weiter?\" data-toc-modified-id=\"Wie-geht-es-weiter?-7\"><span class=\"toc-item-num\">7&nbsp;&nbsp;</span>Wie geht es weiter?</a></span></li></ul></div>"
   ]
  },
  {
   "cell_type": "markdown",
   "id": "299468ad",
   "metadata": {
    "direction": "ltr"
   },
   "source": [
    "# Python von Anfang an\n",
    "Python ist eine Programmiersprache, die alles kann und Einiges sogar besonders gut.\n",
    "    <br>Sie gilt als eine der besten Programmierslprachen für Anfänger. Wie die meisten Programmiersprachen unterscheidet sie Gross- und Kleinschreibung.\n",
    "    <br>Ungewöhnlich an ihr ist, daß das Einrücken von Zeilen ein Teil der Sprache ist.\n",
    "    <br> Gewöhne dir von Anfang an an<br>\n",
    "    - Variablen bekommen einen sinnvollen Namen<br>\n",
    "    - Kommentiere dein Programm, indem du Zeilen mit einem # beginnend einfügst.<br>\n",
    "    - Lies dir die Fehlermeldungen sorgfältig durch (zumindest die letzten Zeilen). Mit der Zeit erkennst du deine \"Lieblingsfehler\" auf Anhieb."
   ]
  },
  {
   "cell_type": "markdown",
   "id": "1b3f4c0b",
   "metadata": {},
   "source": [
    "#  Eingabe und Ausgabe\n"
   ]
  },
  {
   "cell_type": "markdown",
   "id": "2c158ec5",
   "metadata": {},
   "source": [
    "## Ausgabe eines Strings (Wort)"
   ]
  },
  {
   "cell_type": "code",
   "execution_count": 1,
   "id": "b25c0b50",
   "metadata": {},
   "outputs": [
    {
     "name": "stdout",
     "output_type": "stream",
     "text": [
      "Hallo Welt\n"
     ]
    }
   ],
   "source": [
    "print(\"Hallo Welt\")"
   ]
  },
  {
   "cell_type": "markdown",
   "id": "9139cc66",
   "metadata": {},
   "source": [
    "## Ausgabe einer Zahl"
   ]
  },
  {
   "cell_type": "code",
   "execution_count": 2,
   "id": "56acc1eb",
   "metadata": {},
   "outputs": [
    {
     "name": "stdout",
     "output_type": "stream",
     "text": [
      "3\n"
     ]
    }
   ],
   "source": [
    "print(3)"
   ]
  },
  {
   "cell_type": "markdown",
   "id": "278cacce",
   "metadata": {},
   "source": [
    "### Ausgabe einer Variablen"
   ]
  },
  {
   "cell_type": "code",
   "execution_count": 3,
   "id": "7dbc3738",
   "metadata": {},
   "outputs": [
    {
     "name": "stdout",
     "output_type": "stream",
     "text": [
      "3\n",
      "Hallo\n"
     ]
    }
   ],
   "source": [
    "zahl = 3\n",
    "print(zahl)\n",
    "\n",
    "wort = \"Hallo\"\n",
    "print(wort)"
   ]
  },
  {
   "cell_type": "markdown",
   "id": "afa3a3ab",
   "metadata": {},
   "source": [
    "Kannst du sicher Strings, Variablen, und Zahlen auseindanderhalten? Zumindest fast?\n",
    "Die Ausgabe erfolgt immer mit der Funktion print. Dann musst du noch in Klamern mitgeben, was genau ausgegeben werden soll.\n",
    "\n",
    "Das Prinzip \"Tu etwas und in den Klammern gebe ich dir weitere Informationen\" wird uns den ganzen Kurs über begleiten.\n"
   ]
  },
  {
   "cell_type": "markdown",
   "id": "423c008a",
   "metadata": {},
   "source": [
    "### Ausgabe von Text, Zahlen und Variablen zusammen"
   ]
  },
  {
   "cell_type": "code",
   "execution_count": 4,
   "id": "63f48b40",
   "metadata": {},
   "outputs": [
    {
     "name": "stdout",
     "output_type": "stream",
     "text": [
      "Ich habe 1 und 2 Äpfel.\n",
      "Das sind insgesamt 3 Äpfel\n"
     ]
    }
   ],
   "source": [
    "menge1 = 1\n",
    "menge2 = 2\n",
    "obst = \"Äpfel\"\n",
    "print(f\"Ich habe {menge1} und {menge2} {obst}.\\nDas sind insgesamt {menge1 + menge2} {obst}\")\n"
   ]
  },
  {
   "cell_type": "markdown",
   "id": "911589ba",
   "metadata": {},
   "source": [
    "### Eingabe eines Strings"
   ]
  },
  {
   "cell_type": "code",
   "execution_count": null,
   "id": "cb35c7b4",
   "metadata": {
    "scrolled": true
   },
   "outputs": [],
   "source": [
    "eingabe = input(\"Was soll ich ausgeben? \\n\")\n",
    "print(eingabe)"
   ]
  },
  {
   "cell_type": "markdown",
   "id": "16a65099",
   "metadata": {},
   "source": [
    "### Eingabe einer Zahl"
   ]
  },
  {
   "cell_type": "code",
   "execution_count": null,
   "id": "abc13851",
   "metadata": {},
   "outputs": [],
   "source": [
    "eingabeZahl = int(input(\"Gib eine Zahl ein: \"))\n",
    "print(f\"Du hast die Zahl {eingabeZahl} eingegeben\")"
   ]
  },
  {
   "cell_type": "markdown",
   "id": "ba03827e",
   "metadata": {},
   "source": [
    "### String, Integer und Float"
   ]
  },
  {
   "cell_type": "markdown",
   "id": "c80e5606",
   "metadata": {},
   "source": [
    "Python kennt viele eingebaute Datentypen und Integer und String haben wir schon etwas kennengelernt.\n",
    "Aber was sind Datentypen?\n",
    "<div class=\"alert alert-block alert-info\">\n",
    "Der Datentyp sagt dir, was du mit einem Wert machen kannst.<br>\n",
    "- Zahlen kannst du addieren.<br>\n",
    "- Oh ... Wörter auch! <br>\n",
    "- Zwei Zahlen kannst du miteinander multiplizieren<br>\n",
    "- Ein Wort kannst du gross- oder kleinschreiben - das kannst du aber nicht mit einer Zahl machen<br>\n",
    "- und mit Zahlen, Strings und anderen Datentypen kann man noch viel viel mehr machen.\n",
    "  \n",
    "  \n",
    "</div>\n"
   ]
  },
  {
   "cell_type": "markdown",
   "id": "203b148f",
   "metadata": {},
   "source": [
    "### Rechnen mit Zahlen - Operatoren"
   ]
  },
  {
   "cell_type": "markdown",
   "id": "ff9dd376",
   "metadata": {},
   "source": [
    "<table class=\"ws-table-all notranslate\">\n",
    "<tbody><tr>\n",
    "<th style=\"width:25%\">Operator</th>\n",
    "<th style=\"width:35%\">Name</th>\n",
    "<th style=\"width:30%\">Beispiel</th>\n",
    "\n",
    "</tr>\n",
    "<tr>\n",
    "<td>+</td>\n",
    "<td>Addition</td>\n",
    "<td>x + y</td>\n",
    "<tr>\n",
    "<td>-</td>\n",
    "<td>Subtraktion</td>\n",
    "<td>x - y</td>\n",
    "\n",
    "</tr>\n",
    "<tr>\n",
    "<td>*</td>\n",
    "<td>Multiplikation</td>\n",
    "<td>x * y</td>\n",
    "\n",
    "</tr>\n",
    "<tr>\n",
    "<td>/</td>\n",
    "<td>Division</td>\n",
    "<td>x / y</td>\n",
    "\n",
    "</tr>\n",
    "<tr>\n",
    "<td>%</td>\n",
    "<td>Modulus</td>\n",
    "<td>x % y</td>\n",
    "\n",
    "</tr>\n",
    "  <tr>\n",
    "<td>**</td>\n",
    "<td>Potenzieren</td>\n",
    "<td>x ** y</td>\n",
    "\n",
    "  </tr>\n",
    "<tr>\n",
    "<td>//</td>\n",
    "<td>Ganzzahlteilung</td>\n",
    "<td>x // y</td>\n",
    "\n",
    "</tr>\n",
    "</tbody></table>"
   ]
  },
  {
   "cell_type": "markdown",
   "id": "d995ad9e",
   "metadata": {},
   "source": [
    "### Aufgaben zu Eingabe und Ausgabe von Strings\n",
    "\n",
    "<ul>\n",
    "<li>\n",
    "Begrüßung<br>\n",
    "Lass den User seinen Namen eingeben und begrüße ihn mit Hallo name, also z.B<br>\n",
    "    Hallo Anton</li>\n",
    "\n",
    "<li>Umwandlung von cm<br>\n",
    "        Lass den User einen Wert in cm eingeben und gib aus wieviele mm, m, dm und km das sind.</li>\n",
    "<li>Mississippi<br>Deklariere 2 Strings: s1=\"iss\" und s2 = \"pp\".<br>Schreibe nun das Wort Mississippi und benutze die beiden Strings so oft wie möglich<br>print(f\"M{s1}\") ist ein guter Anfang.</li>\n",
    "        <li>Lass den User zwei Zahlen z1 und z2 eingeben und gib das Ergebnis der Addition, Substraktion und Multiplikation beider Zahlen in ganzen Sätzen aus.<br>Division ist etwas gefährlich!!! <b>LET IT CRASH</b><br>Wie wir den Absturz verhindern? try and catch - zum nachlesen.</li>\n",
    "\n",
    "<li>Was ist der Modulus?<br>\n",
    "    Lass den User zwei Zahlen z1, z2 einegeben und berechne den Modulus (z1%z2).\n",
    "    Probiere viele Zahlen aus. Lasse insbesondere die erste Zahl z1 immer gleich und variiere die zweite Zahl.<br>\n",
    "    Wann ist z1 durch z2 teilbar?</li>\n",
    "   \n",
    "</ul>\n"
   ]
  },
  {
   "cell_type": "markdown",
   "id": "24e12d71",
   "metadata": {},
   "source": [
    "# Kontrollstrukturen\n"
   ]
  },
  {
   "cell_type": "markdown",
   "id": "a85ba4c7",
   "metadata": {},
   "source": [
    "## if elif else"
   ]
  },
  {
   "cell_type": "code",
   "execution_count": null,
   "id": "53d6d15b",
   "metadata": {},
   "outputs": [],
   "source": [
    "zahl1 = 3\n",
    "zahl2 = int(input(\"Gib eine Zahl ein: \"))\n",
    "\n",
    "if zahl2 == 0:\n",
    "    print(f\"zahl2 hat den Wert 0, ich kann nicht dividieren\")\n",
    "else:\n",
    "    print(f\"{zahl1}/{zahl2} = {zahl1/zahl2}\")"
   ]
  },
  {
   "cell_type": "code",
   "execution_count": null,
   "id": "d6585f09",
   "metadata": {},
   "outputs": [],
   "source": [
    "zahl1 = 3\n",
    "zahl2 = int(input(\"Gib eine Zahl ein: \"))\n",
    "\n",
    "if zahl2 == 0:\n",
    "    print(f\"Ich kann nicht durch 0 teilen\")\n",
    "elif zahl2 > 1000:\n",
    "    print(f\"So grosse Zahlen mag ich nicht!\")\n",
    "elif zahl2 < -1000:\n",
    "    print(f\"So kleine Zahlen mag ich nicht!\")\n",
    "else:\n",
    "    print(f\"{zahl1}/{zahl2} = {zahl1/zahl2}\")"
   ]
  },
  {
   "cell_type": "markdown",
   "id": "689a91f9",
   "metadata": {},
   "source": [
    "###Vergleichsoperatoren\n",
    "<table class=\"ws-table-all notranslate\">\n",
    "<tbody><tr>\n",
    "<th style=\"width:25%\">Operator</th>\n",
    "<th style=\"width:35%\">Name</th>\n",
    "<th style=\"width:30%\">Beispiel</th>\n",
    "</tr>\n",
    "<tr>\n",
    "<td>==</td>\n",
    "<td>Equal</td>\n",
    "<td>x == y</td>\n",
    "</tr>\n",
    "<tr>\n",
    "<td>!=</td>\n",
    "<td>Not equal</td>\n",
    "<td>x != y</td>\n",
    "</tr>\n",
    "<tr>\n",
    "<td>&gt;</td>\n",
    "<td>Greater than</td>\n",
    "<td>x &gt; y</td>\n",
    "</tr>\n",
    "<tr>\n",
    "<td>&lt;</td>\n",
    "<td>Less than</td>\n",
    "<td>x &lt; y</td>\n",
    "</tr>\n",
    "  <tr>\n",
    "<td>&gt;=</td>\n",
    "<td>Greater than or equal to</td>\n",
    "<td>x &gt;= y</td>\n",
    "  </tr>\n",
    "<tr>\n",
    "<td>&lt;=</td>\n",
    "<td>Less than or equal to</td>\n",
    "<td>x &lt;= y</td>\n",
    "</tr>\n",
    "</tbody></table>"
   ]
  },
  {
   "cell_type": "markdown",
   "id": "d7129346",
   "metadata": {},
   "source": [
    "### Böse Fallen bei der Verzweigung und wie man nicht reintappt (doch - Anfänger tappen immer in diese Fallen)\n",
    "<div class=\"alert alert-block alert-warning\">\n",
    "    <ul>\n",
    "        <li>Nach if, else, elif kommt ein Doppelpunkt</li>\n",
    "        <li>Nach jedem Doppelpunkt kommt eine neue Zeile. Die neue Zeile muss eingerückt werden mit einem Tab.</li>\n",
    "        <li>Nach allen Befehlen, die im if-Fall ausgeführt werden sollen, muss wieder ausgerückt werden(Shift + Tab).</li>\n",
    "        <li>Kommentiere dein Programm ausführlich - eine Zeile, die mit # anfängt, ist ein Kommentar!\n",
    "        <li>Ein Lineal hilft manchmal</li>\n",
    "</div>"
   ]
  },
  {
   "cell_type": "markdown",
   "id": "060b0b4d",
   "metadata": {},
   "source": [
    "#### Übungen zu Verzweigungen\n",
    "- Taschenrechner<br>\n",
    "Lass den User zwei Zahlen z1 und z2 und einen Rechenoperator eingeben und gib das Ergebnis aus.<br>\n",
    "Beispiel Eingabe z1 = 1, z2 = 2, op = \"+\"<br>\n",
    "Ausgabe 1 + 2 = 3<br>\n",
    "\n",
    "- Primzahlen<br>\n",
    "Lass den User eine Zahl zwischen 2 und 100 ausgeben.<br>\n",
    "Die Zahl ist eine Primzahl, wenn sie durch mindestens eine der Zahlen aus [2,3,5,7] teilbar ist.<br>\n",
    "Gib aus, ob die Zahl eine Primzahl ist.<br>\n",
    "<code>\n",
    "    zahl = int(input(\"Gib eine Zahl ein: \"))\n",
    "    if zahl > 100:\n",
    "        # Hier wird eingerückt\n",
    "        print(\"zu hoch\")\n",
    "    # der elif gehört zum if... wieder ausrücken\n",
    "    elif zahl <  2:\n",
    "        print(\"zu klein\")\n",
    "    else:\n",
    "        if zahl%2 == 0:\n",
    "                # hier verschachteln wir - nochmal einrücken\n",
    "                print(\"Keine Primzahl\")\n",
    "        # Hier wieder EINEN ausrücken\n",
    "        elif zahl%3 == 0:\n",
    "                  # ab hier bist du dran\n",
    "                  </code>"
   ]
  },
  {
   "cell_type": "markdown",
   "id": "385c5add",
   "metadata": {},
   "source": [
    "## Schleifen"
   ]
  },
  {
   "cell_type": "markdown",
   "id": "b306271e",
   "metadata": {},
   "source": [
    "### while-Schleife :  Solange eine Ausdruck wahr ist"
   ]
  },
  {
   "cell_type": "code",
   "execution_count": null,
   "id": "d9b83d15",
   "metadata": {},
   "outputs": [],
   "source": [
    "i = 0\n",
    "while i < 10:\n",
    "    print(i, end = \" \")\n",
    "    i+=1"
   ]
  },
  {
   "cell_type": "markdown",
   "id": "683f9293",
   "metadata": {},
   "source": [
    "### Zuweisungsoperatoren\n",
    "<table class=\"ws-table-all notranslate\">\n",
    "<tbody><tr>\n",
    "<th style=\"width:25%\">Operator</th>\n",
    "<th style=\"width:20%\">Beispiel</th>\n",
    "<th style=\"width:20%\">Same As</th>\n",
    "\n",
    "</tr>\n",
    "<tr>\n",
    "<td>=</td>\n",
    "<td>x = 5</td>\n",
    "<td>x = 5</td>\n",
    "</tr>\n",
    "  <tr>\n",
    "<td>+=</td>\n",
    "<td>x += 3</td>\n",
    "<td>x = x + 3</td>\n",
    "  </tr>\n",
    "  <tr>\n",
    "<td>-=</td>\n",
    "<td>x -= 3</td>\n",
    "<td>x = x - 3</td>\n",
    "  </tr>\n",
    "  <tr>\n",
    "<td>*=</td>\n",
    "<td>x *= 3</td>\n",
    "<td>x = x * 3</td>\n",
    "  </tr>\n",
    "  <tr>\n",
    "<td>/=</td>\n",
    "<td>x /= 3</td>\n",
    "<td>x = x / 3</td>\n",
    "  </tr>\n",
    "  <tr>\n",
    "<td>%=</td>\n",
    "<td>x %= 3</td>\n",
    "<td>x = x % 3</td>\n",
    "  </tr>\n",
    "  <tr>\n",
    "<td>//=</td>\n",
    "<td>x //= 3</td>\n",
    "<td>x = x // 3</td>\n",
    "  </tr>\n",
    "  <tr>\n",
    "<td>**=</td>\n",
    "<td>x **= 3</td>\n",
    "<td>x = x ** 3</td>\n",
    "  </tr>\n",
    "\n",
    "\n",
    "</tbody></table>"
   ]
  },
  {
   "cell_type": "markdown",
   "id": "90d1d437",
   "metadata": {},
   "source": [
    "### for - Schleife: Eine genaue Anzahl von Durchläufen"
   ]
  },
  {
   "cell_type": "code",
   "execution_count": null,
   "id": "0b93959e",
   "metadata": {},
   "outputs": [],
   "source": [
    "# Für jede Zahl von i wird eine Schleife gedreht\n",
    "# i sagt, in der wievielten Schleife wir gerade sind.\n",
    "# Die letzte Zahl (also hier die 10 )  wird nicht bearbeitet \n",
    "for i in range(10):\n",
    "    print(i, end = \" \")"
   ]
  },
  {
   "cell_type": "markdown",
   "id": "f8038973",
   "metadata": {},
   "source": [
    "#### for-Schleife mit Schrittlänge und Anfang\n"
   ]
  },
  {
   "cell_type": "code",
   "execution_count": null,
   "id": "b1291062",
   "metadata": {},
   "outputs": [],
   "source": [
    "# Nimm die Zahlen von 100 bis 200 und davon immer jede 5.Zahl\n",
    "for i in range(100,200,5):\n",
    "    print(i, end = \" \")\n",
    "    "
   ]
  },
  {
   "cell_type": "markdown",
   "id": "d07db0e9",
   "metadata": {
    "tags": []
   },
   "source": [
    "### Übungen zu Schleifen\n",
    "\n",
    "- Eingabe<br>\n",
    "Setze z1 auf 1000 und lass den User solange eine Zahl z1 eingeben, bis die Zahl < 100 ist.<br>\n",
    "- Schreibe das Programm für Bart Simpson<br>\n",
    "Er muss es 100 mal schreiben\n",
    "<img src = \"https://i.pinimg.com/originals/a0/d4/81/a0d481b65c34d34bfa3921f5c3be0916.jpg\"><br>\n",
    "- Gib alle Zahlen von 1 bis 100 aus, die durch 3 teilbar sind.<br>\n",
    "Nimm dazu die for-Schleife mit einem geeigneten Anfang und einer geeigneten Schrittweite<br>\n",
    "- Male folgendes Muster:<br>\n",
    "\n",
    "+<br>\n",
    "++<br>\n",
    "+++<br>\n",
    "++++<br>\n",
    "+++++<br>\n",
    "\n",
    "\n",
    "Hinweis: Nutze dazu die for-Schleife und den \"Trick\"<code>\n",
    "    print(f\"{3*'+'}\")</code>\n",
    "    <b> ohhhhhh siehst du die verschachtelten Anführungszeichen? Das äußere Paar sind doppelte Anführungszeichen und das innere Paar für das Plus sind einfache Anführingszeichen. </b>\n",
    "- Male auch dieses Muster:<br>\n",
    "Auch hier gibt es einen nützlichen Trick:<br>\n",
    "Am besten du schaust dir unten das Beispiel für ein Muster an.\n",
    "<img src = \"https://i.ytimg.com/vi/M7Gn2L1iGNg/maxresdefault.jpg\">\n",
    "- Das Programm ist das Spiel \"Guess the number\". Es ist noch nicht fertig.<br>\n",
    "Kopiere das Programm und ersetze die Fragezeichen durch sinnvollen Code.<br>\n",
    "Füge zusaätzlich in das Programm einen Zähler ein, der die Anzahl der Versuche zählt.<br>Gib am Ende die Anzahl der Versuche aus.<br>\n",
    "Verbessere die Ausgabe indem du die eingegebene Zahl mit ausgibst: Die Zahl 780 ist zu klein.\n",
    "<br>Nutze dazu <code> print(f\"{}\")</code>.<br>\n",
    "<br>Ist die viel zu groß oder viel zu klein (mehr als 100 entfernt), dann gib z.B aus:\n",
    "<br>Die Zahl 123 ist viel zu klein"
   ]
  },
  {
   "cell_type": "code",
   "execution_count": null,
   "id": "b2f520ae",
   "metadata": {},
   "outputs": [],
   "source": [
    "from random import randint\n",
    "# Der Computer wählt eine zufällige Zahl von 1 bis 1000\n",
    "zufallszahl = randint(1,1000)\n",
    "\n",
    "guess = 0\n",
    "\n",
    "while guess != ??? :\n",
    "    guess = int(input(\"???\"))\n",
    "    if guess ??? zufallszahl:\n",
    "        print(\"Die Zahl ist zu gross\")\n",
    "    elif guess ??? zufallszahl:\n",
    "        print(\"zu klein\")\n",
    "    else:\n",
    "        print(\"ja\")\n",
    "\n"
   ]
  },
  {
   "cell_type": "code",
   "execution_count": null,
   "id": "8d28777e",
   "metadata": {},
   "outputs": [],
   "source": [
    "for i in range(1,8,2):\n",
    "    print(f\"{'*'*(i)}\".center(40))"
   ]
  },
  {
   "cell_type": "markdown",
   "id": "fd1652bc",
   "metadata": {},
   "source": [
    "# Listen\n",
    "Zahlen oder Wörter oder auch alle Objekte, die zusammengehören, kann man in eine Liste schreiben.<br>\n",
    "Das macht das Programmieren viel einfacher.\n",
    "Diese Herrschaften z.B möchten gerne alle gefüttert werden. \n",
    "Die Idee der Liste ist: \n",
    "<code>\n",
    "    for Vogel in Reihe:\n",
    "       füttere(Vogel)\n",
    "</code>\n",
    "<img src=\"https://www.woodlandtrust.org.uk/media/1451/swallow-young-in-nest-14-days-old-alamy-brad2n-ernie-janes.jpg?center=0.3935483870967742\">"
   ]
  },
  {
   "cell_type": "markdown",
   "id": "4ed4d038",
   "metadata": {},
   "source": [
    "## Eine Liste erstellen\n",
    "Es gibt viele Möglichkeiten, eine Liste zu erstellen. Eine dieser Möglichkeiten ist einfach, die Elemente der Liste aufzustellen. Die andere Möglichkeit ist, die Liste zu beschreiben. \n"
   ]
  },
  {
   "cell_type": "code",
   "execution_count": null,
   "id": "dd5f5520",
   "metadata": {},
   "outputs": [],
   "source": [
    "voegel = [\"Anton\",\"Bertha\",\"Carl\",\"Dickie\",\"Ede\"]\n",
    "# Das aktuelle Element nenne ich vogel. Ich kann es aber auch x,y,z,... irgendwie benennen.\n",
    "for vogel in voegel:\n",
    "    print(f\"Jetzt wird {vogel} gefüttert\")"
   ]
  },
  {
   "cell_type": "markdown",
   "id": "37c4be0a",
   "metadata": {},
   "source": [
    "## Übungen zum Erstellen und Durchlaufen einer List\n",
    "- Erstelle eine Liste Zahlen, die alle geraden Zahlen von 2 bis 10 enthält und gib von allen Zahlen die Hälfte aus.<br>\n",
    "- Erstelle eine Liste, die alle Buchstaben deines Namens enthält und gib jeden Buchstabe aus.<br>\n",
    "<b> Oh Mist! Jeder Buchstabe ist in einer Reihe! Der print-Befehl setzt am Ende immer einen Zeilenumbruch. Das kann man aber ändern, indem man dem print-Befehl sagt, welches Zeichen er am Ende setzen soll (In diesem Fall ein leeres Zeichen - also \"\").<br></b>\n",
    "    <code> \n",
    "        print(\"r\", end = \"\")\n",
    "        print(\"o\")\n",
    "    </code>"
   ]
  },
  {
   "cell_type": "markdown",
   "id": "1eec471d",
   "metadata": {},
   "source": [
    "### Welche Parameter hat ein Befehl und was kann man alles mit Strings machen?\n",
    "<div class=\"alert alert-block alert-success\">\n",
    " Jetzt habe ich dir immer mal wieder irgendwelche Sachen untergeschoben, wie z.B den Parameter \"end\" für den Print-Befehl. Das muss man aber am Anfang noch gar nicht alles können. Und auch später nicht. Du kannst immer googeln, wenn du etwas möchtest (google doch mal, wie man beim print keinen Zeilenumbruch bekommt). Professionelle Programmierer googeln oft mindestens eine Stunde pro Tag.\n",
    "Noch besser ist es aber, wenn du dir einen Überblick über die Möglichkeiten eines Befehls verschaffst. Und das kannst du ohne zu googlen.<br>\n",
    "Mit dem Befehl help werden erstmal viele Dinge erklärt. Scrolle am Anfang einfach mal runter, bist alles mit den doppelten Unterstrichen erledigt ist. Danach kommt der für dich interessantere Teil.\n",
    "<code>\n",
    "    # Hilfe für einen Befehl (eine Funktion)\n",
    "    help(print)\n",
    "    # Hilfe für einen String\n",
    "    help(str)\n",
    "    # Hilfe für eine Liste\n",
    "    help(list)\n",
    "</code><br>\n",
    "    \n",
    "    \n",
    " \n",
    "</div>"
   ]
  },
  {
   "cell_type": "code",
   "execution_count": null,
   "id": "115547a4",
   "metadata": {},
   "outputs": [],
   "source": [
    "help(print)"
   ]
  },
  {
   "cell_type": "code",
   "execution_count": null,
   "id": "6e2415f2",
   "metadata": {},
   "outputs": [],
   "source": [
    "help(str)"
   ]
  },
  {
   "cell_type": "code",
   "execution_count": null,
   "id": "85dcbb8b",
   "metadata": {},
   "outputs": [],
   "source": [
    "help(list)"
   ]
  },
  {
   "cell_type": "code",
   "execution_count": null,
   "id": "94c7bf5a",
   "metadata": {},
   "outputs": [],
   "source": [
    "#Beispiel für sort und count\n",
    "zahlen = [3,7,1,5,7]\n",
    "zahlen.sort()\n",
    "print(zahlen)\n",
    "print(zahlen.count(7))"
   ]
  },
  {
   "cell_type": "markdown",
   "id": "ffce0f82",
   "metadata": {},
   "source": [
    "### Übung zu help(list)\n",
    "Erstelle eine Liste mit vielen beliebigen Zahlen<br>\n",
    "Nutze nun den Funktionsaufruf help(list) um die folgenden Übungen zu erledigen.\n",
    "- Gib die Liste sortiert aus.<br>\n",
    "- Gib die Liste umgekehrt sortiert aus(dafür gibt es einen Parameter).<br>\n",
    "- Gib für alle geraden Zahlen von 0 bis 10 aus, wie oft sie vorkommt.<br>\n",
    "- Gib für die letzten 3 Zahlen aus, wann sie das erste Mal vorkommen.<br>\n",
    "- Eine Funktion ist weiter oben (in dem __xxx___ -TEil erklärt). Das ist die Funktion len(liste). Sie ist sehr wichtig. Wenn du dich weiter mit Python beschäftigst, lernst du irgendwann den Unterschied zwischen einer Funktion und einer Methode. <br>Gib die Länge deiner Liste aus.<br>\n",
    "- Lösche alle Elemente deiner Liste und gib sie danach aus.<br>\n",
    "- Nutze eine for-Schleife, um alle geraden Zahlen von 2 bis 12 an die Liste anzufügen.<br>\n",
    "- Nutze eine for-Schleife, um alle ungeraden Zahlen von 1 bis 13 an die Liste anzufügen.<br>\n",
    "- Lösche die 1 aus der Liste.\n",
    "- Gib die Länge deiner Liste aus.\n",
    "\n"
   ]
  },
  {
   "cell_type": "markdown",
   "id": "fa4b145c",
   "metadata": {},
   "source": [
    "## Erstellen einer Liste mit pythonischem Zauber\n",
    "Manchmal ist es etwas langwierig, alle Elemente einer Liste einzutippen. Zum Beispiel dann, wenn man alle geraden Zahlen von 2 bis 100 haben möchte, oder alle Buchstaben eines Wortes. Dann kann man einfach beschreiben, welches die Elemente einer Liste sind.<br>\n",
    "Der pythonische Zauber heißt übrigens <b>list comprehension</b>"
   ]
  },
  {
   "cell_type": "code",
   "execution_count": null,
   "id": "4b08a73a",
   "metadata": {},
   "outputs": [],
   "source": [
    "# alle geraden Zahlen von 2 bis 100\n",
    "gerade = [i for i in range(2,101,2)]\n",
    "print(gerade)"
   ]
  },
  {
   "cell_type": "code",
   "execution_count": null,
   "id": "82a7479f",
   "metadata": {},
   "outputs": [],
   "source": [
    "#oder auch:\n",
    "gerade = [2*i for i in range(1,51)]\n",
    "print(gerade)"
   ]
  },
  {
   "cell_type": "code",
   "execution_count": null,
   "id": "09e6586a",
   "metadata": {},
   "outputs": [],
   "source": [
    "wort = \"Das ist kein Wort sondern ein Satz\"\n",
    "vokale = ['a', 'e', 'i', 'o', 'u', 'A', 'E', 'I', 'O', 'U']\n",
    "\n",
    "# Alle Buchstaben eines Wortes (ein Wort kann man auch durchlaufen)\n",
    "buchstaben = [b for b in wort]\n",
    "print(buchstaben)"
   ]
  },
  {
   "cell_type": "code",
   "execution_count": null,
   "id": "1e377480",
   "metadata": {},
   "outputs": [],
   "source": [
    "#Alle Buchstaben eines Wortes, aber nur, wenn es Vokale sind\n",
    "buchstaben = [b for b in wort if b in vokale]\n",
    "print(buchstaben)"
   ]
  },
  {
   "cell_type": "code",
   "execution_count": null,
   "id": "73987dff",
   "metadata": {},
   "outputs": [],
   "source": [
    "#Alle Buchstaben eines Wortes, aber nur, wenn es keine Vokale sind\n",
    "buchstaben = [b for b in wort if not b in vokale]\n",
    "print(buchstaben)\n",
    "\n",
    "for b in buchstaben:\n",
    "    print(b, end = \"\")\n",
    "print()"
   ]
  },
  {
   "cell_type": "code",
   "execution_count": null,
   "id": "8957ec72",
   "metadata": {},
   "outputs": [],
   "source": [
    "# erfahrene Programmierer schreiben das so:\n",
    "print(\"\".join(buchstaben))"
   ]
  },
  {
   "cell_type": "code",
   "execution_count": null,
   "id": "6c81ff12",
   "metadata": {},
   "outputs": [],
   "source": [
    "#oder so\n",
    "print(\"*\".join(buchstaben))"
   ]
  },
  {
   "cell_type": "markdown",
   "id": "7c54c077",
   "metadata": {},
   "source": [
    "Der Aufbau einer list comrehension besteht also aus 3 Teilen:\n",
    "- Wie wird ein Element  aus der Aufzählung verarbeitet<br>\n",
    "- ... for el in <Aufzählung>\n",
    "- Elemente nach bestimmtem Eigenschaften filtern\n",
    "\n",
    "<code>\n",
    "    [Element el einer Aufzählung a verarbeiten for el in a if FilterfürElemente]\n",
    "</code>\n",
    "\n",
    "- Statt el darf ein Element auch i, wort hugo, irgendwie heissen - es ist einfach eine Variable<br>\n",
    "- Eine Aufzählung kann ein Wort sein, eine Liste, eine range(),...<br>\n",
    "- Der Filter muss durch eine Ausdruck beschrieben werden, der wahr oder falsch ist. Das kann sein: el > 5 . el[1] == \"w\", len(el) == 5, isalpha(el)..."
   ]
  },
  {
   "cell_type": "markdown",
   "id": "ee4a8b42",
   "metadata": {},
   "source": [
    "### Übungen zur list comprehension\n",
    "- Erstelle eine Liste mit allen durch 3 teilbaren Zahlen von 201 bis 300 (range(201,301,3)<br>\n",
    "- Erstelle eine Liste aller Zahlen von 1 bis 10 in Binärdarstellung. Die Funktion heißt bin(x).<br>\n",
    "- Setze eine Liste von Wörtern in Großbuchstaben um. Nutze dafür die Methode upper.<br>\n",
    "(\"satz\".upper() wird zu SATZ und wenn du eine Variable w hast, dann geht das mit w.upper())<br>\n",
    "\n",
    "- Erstelle eine Liste mit allen Ziffern einer Zahl. Die Zahl darf ein Wort sein, aber die Ziffer muss eine Zahl sein. \"3\" wird in 3 umgewandelt mit der Funktion int(x).<br>\n",
    "- Buchstaben werden in Computern mit Zahlen codiert. Das ist der ascci-code. Erstelle eine Liste der ascii-codes der Buchstaben a,b,c,d,e,f. Die Funktion dazu lautet ord(b).<br>\n",
    "- Wandle die eben erstellte Liste wieder zurück in Buchstaben. Die Funktion dazu lautet chr(n).\n",
    "- GROSSE ABSCHLUSSAUFGABE<br>\n",
    "Die Quersumme einer Zahl ist die Summe aller ihrer Ziffern. Die Quersumme von 93 ist also 9+3 = 12.\n",
    "Wir wollen die Quersumme einer eingegebenen Zahl bestimmen und zwar solange, bis die Quersumme einstellig ist.<br>\n",
    "Dazu brauchen wir erstmal einen Schlachtplan:\n",
    "Wir lassen den User ein Zahlwort eingeben.(Also keine Zahl - kein int()).<br>\n",
    "BEispiel: wortzahl = \"1234\"<br>\n",
    "Die Länge der wortzahl ist grösser als 1, daher sind wir noch nicht am Ziel.\n",
    "Mit der list comprehension erstellen wir eine Liste aller Ziffern, diesesmal als Zahlen.<br>\n",
    "=>[1,2,3,4]\n",
    " Wir summieren die Zahlen der Liste auf mit der Funktion sum(liste)<br>\n",
    " =>10<br>\n",
    " Die zahl ist groesser als 9, also weiter. \n",
    " Aus zahl machen wir wieder eine wortzahl mit str(n).<br>\n",
    " Das wiederholen wir solange, bis wir das gewünschte Ergebnis haben.<br>\n",
    " 1 + 0 = 1, und 1 ist einstellig. Wir sind fertig.<br>\n",
    " Nochmal in kurz:\n",
    " <code>\n",
    "    wortzahl = input()\n",
    "    solange len(wortzahl) > 1\n",
    "      wortzahl zu Liste aus Ziffern\n",
    "      zahl ist die Summe der Ziffernliste\n",
    "      wenn zahl zu gross ist: wortzahl ist der String der Zahl\n",
    "    \n",
    "    \n",
    "      \n",
    "  \n",
    "    \n",
    "    \n",
    " \n",
    " \n"
   ]
  },
  {
   "cell_type": "markdown",
   "id": "85f45aaa",
   "metadata": {},
   "source": [
    "## Indexzugriff auf eine Liste/einen String und der Sushi-Operator\n",
    "<img src = \"https://th.bing.com/th/id/R.2be0644f2a42de0e3cae97b2d6c1e166?rik=T%2fetxdPiZPMC7w&riu=http%3a%2f%2fwww.sushi-selber-machen.org%2fwp-content%2fuploads%2f2012%2f09%2fSushi-Rolle-schneiden.jpg&ehk=Gs4CqHkujBc3qPipCFqx2s279frBqyaPtfYwRSN4HKY%3d&risl=&pid=ImgRaw&r=0\">\n",
    "\n",
    "<b> Computer fangen bei 0 an zu zählen </b>\n",
    "Wir wollen den 3. Eintrag einer Liste haben, oder die ersten drei Einträge oder die letzten drei Einträge oder jeden 2. Eintrag oder... das Mittelstück der Sushirolle."
   ]
  },
  {
   "cell_type": "code",
   "execution_count": null,
   "id": "7b880bb0",
   "metadata": {},
   "outputs": [],
   "source": [
    "gewinner = [4356,87459,894,879898,\"Anton\"]\n",
    "# Die Goldmedallie geht an\n",
    "print(gewinner[0])\n",
    "# Bronze geht an\n",
    "print(gewinner[2])"
   ]
  },
  {
   "cell_type": "code",
   "execution_count": null,
   "id": "034e5bd7",
   "metadata": {},
   "outputs": [],
   "source": [
    "# Einfach... jetzt kommen Sublisten also mehr als ein Element der Liste\n",
    "# Medallien bekommen (ja... der letzte wird wieder nicht mitgenommen, das kennen wir aus range)\n",
    "print(gewinner[0:3])"
   ]
  },
  {
   "cell_type": "code",
   "execution_count": null,
   "id": "dd5b7871",
   "metadata": {},
   "outputs": [],
   "source": [
    "# Die geraden Plätze werden belegt von\n",
    "print(gewinner[0:5:2])"
   ]
  },
  {
   "cell_type": "code",
   "execution_count": null,
   "id": "a2695d96",
   "metadata": {},
   "outputs": [],
   "source": [
    "#So geht das also: gewinner [start:ende:hops]\n",
    "# Und man kann start,ende,hops weglassen, dann gibt man an der Stell nichts ein\n",
    "\n",
    "# Start weglassem, dann geht es von Anfang an\n",
    "print(f\"Auf das Podest kommen {gewinner[:3]} \")"
   ]
  },
  {
   "cell_type": "code",
   "execution_count": null,
   "id": "8cb04f2f",
   "metadata": {},
   "outputs": [],
   "source": [
    "#Ende weglassen, dann werden alle  Elemente genommen\n",
    "print(f\"Kein Preis für {gewinner[3:]}\")"
   ]
  },
  {
   "cell_type": "code",
   "execution_count": null,
   "id": "e2a4bd44",
   "metadata": {},
   "outputs": [],
   "source": [
    "#Anfang weglassen aber Hops mitnehmen\n",
    "print(f\"Auf den geraden Plätzen sind {gewinner[::2]}\")"
   ]
  },
  {
   "cell_type": "code",
   "execution_count": null,
   "id": "2fa151fc",
   "metadata": {},
   "outputs": [],
   "source": [
    "# Das geht auch mit Strings\n",
    "wort = \"Das geht auch mit Strings\"\n",
    "# Ich hopse rückwärts\n",
    "print(wort[::-1])"
   ]
  },
  {
   "cell_type": "markdown",
   "id": "f201daeb",
   "metadata": {},
   "source": [
    "#### Übungen zum Indexzugriff\n",
    "- Lass den User ein Wort eingeben und gib es umgekehrt wieder aus.<br>\n",
    "- Schreibe eine geheime Botschaft, indem du eine Wort schreibst, bei dem nur jeder zweite Buchstabe zählt.\n",
    "Gib die geheime Botschaft entschlüsselt aus.<br>\n",
    "- Ein Pallindrom ist ein Wort, das vorwärts- und rückwärtsgelesen gleich ist.<br>\n",
    "Beispiele: anna,omo,toto.<br>Lass den user ein Wort eingeben und gib aus, ob das Wort ein Pallindrom ist.<br>\n",
    "    Das ist es, wenn wort == wort[::-1] ist.<br>\n",
    "- Erstelle eine Liste mit vielen Zahlen und gib die 3 kleinsten Zahlen aus.(Sortieren macht Sinn)<br>\n",
    "- Lass den User eine Zahl n eingebe und gib den n. Eintrag der Liste aus.<br>\n",
    "Wenn der User eine 3 eingibt, will er auch den 3.Eintrag haben, nicht den 4. Eintrag!\n",
    " \n",
    "\n"
   ]
  },
  {
   "cell_type": "markdown",
   "id": "95b74e22",
   "metadata": {},
   "source": [
    "# Funktionen\n",
    "Eine Aufgabe im Programm war es, herauszufinden, ob ein Wort ein Pallindrom ist.\n",
    "Das wäre natürlich am einfachsten gewesen, wenn es eine Funktion geben würde. Etwa so:\n",
    "<code>\n",
    "    print(istEinPallindrom(\"ANNA\"))\n",
    "</code>\n",
    "Die schlechte Nachricht lautet: So eine Funktion gibt es nicht.\n",
    "Die gute Nachricht lautet: Wir können sie aber bauen (definieren).\n",
    "Das kennen wir eigentlich auch schon aus der Schule:\n",
    "<code>\n",
    "f(x) = 3x+1\n",
    " </code>\n",
    " \n",
    " Gibst du der Funktion eine 3, gibt sie eine 1o zurück. So ähnlich machen wir das auch.\n",
    "\n"
   ]
  },
  {
   "cell_type": "markdown",
   "id": "2230ae0f",
   "metadata": {},
   "source": [
    "## Eine Funktion definieren"
   ]
  },
  {
   "cell_type": "code",
   "execution_count": null,
   "id": "be416174",
   "metadata": {},
   "outputs": [],
   "source": [
    "# definiere eine Funktion, die eine Zahl x annimmt und 3*x+1 wiedergibt\n",
    "\n",
    "def dreiMalXPlus1(x):\n",
    "    y = 3*x+1\n",
    "    return y\n",
    "\n",
    "# ausprobieren\n",
    "print(dreiMalXPlus1(3))\n",
    "\n",
    "\n",
    "#Ich kann auch mehr als einen Wert annehmen\n",
    "def addiere(x,y):\n",
    "    summe = x+y\n",
    "    return summe\n",
    "\n",
    "# Ausprobieren\n",
    "s = addiere(3,4)\n",
    "print(s)\n"
   ]
  },
  {
   "cell_type": "markdown",
   "id": "306b7a6e",
   "metadata": {},
   "source": [
    "Aha! Da ist wieder unser Doppelpunkt mit einrücken!<br>\n",
    "\n",
    "Statt if und while haben wir dieses Mal das Keyword \"def\". Danach kommt der Name der Funktion(der fängt IMMER mit einem Buchstaben an), danach der Doppelpunkt und dann eingerückt der Code der Funktion.\n",
    "Alles was eingerückt ist, gehört zur Definition der Funktion.<br>\n",
    "Und wenn die Funktion fertig ist mit Berechnen, gibt sie das Ergebnis zurück, dazu gibt es den Befehl return."
   ]
  },
  {
   "cell_type": "markdown",
   "id": "0e2f2e0b",
   "metadata": {},
   "source": [
    "## Übungen zum Definieren von Funktionen\n",
    "- Definiere eine Funktion add3, die drei Zahlen x1,x2 und x3 annimmt und die Summe der drei Zahlen zurückgibt.<br>\n",
    "\n",
    "- Definiere eine Funktion rueckwaerts, die ein Wort w annimmt und das umgedrehte Wort zurückgibt<br>\n",
    "- Definiere eine Funktion, die ein Wort w annimmt und die Variable True zurückgibt, wenn w ein Pallindrom ist, andernfalls False.<br>\n",
    "- Definiere eine Funktion testeZahl, die zwei Zahlen x1 und x2 annimmt und den String \"Die Zahl {x1} ist kleiner als/groesser als/ genau die Zahl{x2}\" zurückgibt. Die Aussage muss natürlch stimmen. Wenn du mit if arbeitest, achte auf das korrekt Einrücken und Ausrücken und denke an den Doppelpunkt.\n",
    "- Definiere eine Funktion quersumme(wortzahl), die die Quersumme einer wortzahl als wortzahl zurückgibt. \n",
    "Die Quersumme ist wieder solange zu ermitteln, bis sie einstellig ist. Wir verwenden also den Code aus der list comprehension und machen eine Funktion daraus.<br>\n",
    "Nutze diese Funktion, um die Quersumme der Zahlen von 100 bis 200 mit einer list comprehension zu ermitteln."
   ]
  },
  {
   "cell_type": "markdown",
   "id": "82b2dd6e",
   "metadata": {},
   "source": [
    "##  Gedanken zur Quersumme\n",
    "Wahrscheinlich fällt dir auf, dass die Liste der Quersummen einer Regel entspricht (1,2,3,4,5,6,7,8,9,1,2,3,4,5,6,7,8,9). Das ist ein sicheres Anzeichen dafür, dass man das Problem viel eleganter und kürzer lösen kann. Tatsächlich geht es auch so:"
   ]
  },
  {
   "cell_type": "code",
   "execution_count": null,
   "id": "8484e280",
   "metadata": {},
   "outputs": [],
   "source": [
    "[(f\"Die Quersumme von {i} ist {(i-1)%9 + 1}\") for i in range(103,117)]\n"
   ]
  },
  {
   "cell_type": "markdown",
   "id": "8105297c",
   "metadata": {},
   "source": [
    "Computer sind dumm und können nicht denken. Aber du kannst mit einem Programm deine Ideen ausdrücken, wie etwas zu tun ist. Und der Computer macht dann für dich.<br>\n",
    "Überlege immer, ob du dich nicht eleganter ausdrücken kannst oder ob ein Problem vielleicht ganz anders lösbar ist, als du zuerst gedacht hast.<br>\n",
    "\n"
   ]
  },
  {
   "cell_type": "markdown",
   "id": "c88e508f",
   "metadata": {},
   "source": [
    "# Kleine Projekte"
   ]
  },
  {
   "cell_type": "markdown",
   "id": "43b9e6fa",
   "metadata": {},
   "source": [
    "## Pallindorome aus dem Internet\n"
   ]
  },
  {
   "cell_type": "code",
   "execution_count": null,
   "id": "38bc214f",
   "metadata": {},
   "outputs": [],
   "source": [
    "# Befehlsvorrat abholen\n",
    "import requests\n",
    "allwords = []\n",
    "# url der zu lesenden Seite\n",
    "url = \"https://de.wikipedia.org/wiki/Liste_deutscher_Palindrome#Wortpalindrome\"\n",
    "\n",
    "# Seite anfordern\n",
    "r = requests.get(url)\n",
    "\n",
    "#Seite auswerten\n",
    "worte = [w.lower() for w in r.text.replace('(',\" \").replace(\"<\",\" \").replace(\">\",\" \").split(\" \") if len(w) >= 3 and w.isalpha()]\n",
    "allwords.extend( [w for w in worte if w == w[::-1]])\n",
    "set(allwords)"
   ]
  },
  {
   "cell_type": "markdown",
   "id": "349f0a08",
   "metadata": {},
   "source": [
    "## Dein Name als ascii-Art"
   ]
  },
  {
   "cell_type": "code",
   "execution_count": null,
   "id": "05acf1dd",
   "metadata": {},
   "outputs": [],
   "source": [
    "# !pip -qqinstall  pyfiglet\n",
    "import pyfiglet\n",
    "name = input(\"Wie heißt du?: \")\n",
    "o=pyfiglet.Figlet()\n",
    "for el in o.getFonts()[2:5]:\n",
    "    print(f'{el}:\\n{pyfiglet.figlet_format(name, font=el)}')"
   ]
  },
  {
   "cell_type": "markdown",
   "id": "7511e64a",
   "metadata": {},
   "source": [
    "# Wie geht es weiter?\n",
    "Du kannst gerne weitere Kurse belegen, Youtube-Videos glotzen und dir noch eine Menge Input holen.\n",
    "Besser ist es aber, wenn du selber programmierst oder dir Programme von anderen anschaust.\n",
    "Ich mag die App Sololearn sehr gerne. Auch gibt es immer wieder kleine Programmierwettbewerbe.\n",
    "Advent of Code findet in der Adventszeit statt und die Aufgaben sind teilweise nicht sehr schwer.\n",
    "\n",
    "Wenn dieser Kurs noch eine Woche gehen würde, würde ich mit euch über Bibliotheken sprechen. Eine Bibliothek - random- haben wir im vorbeigehen gestreift, zwei weitere habe ich in den kleinen Projekten vorgestellt.\n",
    "\n",
    "Wir kennen auch noch nicht alle eingebauten Datentypen:\n",
    "Sets und Dictionaries helfen dir, den einen oder anderen Code einfacher zu schreiben.\n",
    "\n",
    "Dann müssten wir noch über die Strukturierung von Code reden. Da ginge es dann um Objektorientierung, die in Python aber nicht sehr schön umgesetzt ist.\n",
    "\n",
    "Mit den älteren von euch würde es jetzt wahrscheinlich mit Diagrammen und Auswertung von Daten weitergehen, die ihr aus dem Internet ziehen könnt. Das wäre dann schon sehr praxisrelevant.\n",
    "\n",
    "Und dann kommt ja auch noch der Spaßfaktor: Minecraft hacken, WhatsApp automatisieren, Discord-Bots, Bildverarbeitung und Spieleprogrammierung... alles das geht prima mit Python. Da muss man zwar immer etwas dazulernen, aber wenn du diesen Grundkurs durchgearbeitet hast.\n"
   ]
  }
 ],
 "metadata": {
  "direction": "ltr",
  "kernelspec": {
   "display_name": "Python 3 (ipykernel)",
   "language": "python",
   "name": "python3"
  },
  "language_info": {
   "codemirror_mode": {
    "name": "ipython",
    "version": 3
   },
   "file_extension": ".py",
   "mimetype": "text/x-python",
   "name": "python",
   "nbconvert_exporter": "python",
   "pygments_lexer": "ipython3",
   "version": "3.9.13"
  },
  "nbTranslate": {
   "displayLangs": [
    "*"
   ],
   "hotkey": "alt-t",
   "langInMainMenu": true,
   "sourceLang": "en",
   "targetLang": "fr",
   "useGoogleTranslate": true
  },
  "toc": {
   "base_numbering": 1,
   "nav_menu": {
    "height": "462px",
    "width": "390px"
   },
   "number_sections": true,
   "sideBar": true,
   "skip_h1_title": false,
   "title_cell": "Inhaltsverzeichnis",
   "title_sidebar": "Contents",
   "toc_cell": true,
   "toc_position": {
    "height": "calc(100% - 180px)",
    "left": "10px",
    "top": "150px",
    "width": "253.719px"
   },
   "toc_section_display": true,
   "toc_window_display": true
  }
 },
 "nbformat": 4,
 "nbformat_minor": 5
}
